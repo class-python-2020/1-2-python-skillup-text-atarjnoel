{
 "metadata": {
  "language_info": {
   "codemirror_mode": {
    "name": "ipython",
    "version": 3
   },
   "file_extension": ".py",
   "mimetype": "text/x-python",
   "name": "python",
   "nbconvert_exporter": "python",
   "pygments_lexer": "ipython3",
   "version": "3.8.2-final"
  },
  "orig_nbformat": 2,
  "kernelspec": {
   "name": "python_defaultSpec_1597917347315",
   "display_name": "Python 3.8.2 32-bit"
  }
 },
 "nbformat": 4,
 "nbformat_minor": 2,
 "cells": [
  {
   "cell_type": "code",
   "execution_count": 22,
   "metadata": {},
   "outputs": [],
   "source": [
    "import sqlite3\n",
    "\n",
    "# sample.db　という名前のデータベースファイル\n",
    "db = 'sample.db'\n",
    "\n",
    "#　データベースに接続:Connentionオブジェクトを作成\n",
    "#　データベースがすでに存在するときはそのまま接続\n",
    "#　データベースがないときは新しく作成して接続\n",
    "con = sqlite3.connect(db)\n",
    "\n",
    "#　カーソルオブジェクトを作成\n",
    "csr = con.cursor()\n",
    "\n",
    "# テーブルを作成\n",
    "sql = 'create table Employee1(name, email, department, position);'\n",
    "csr.execute(sql)\n",
    "\n",
    "# 保存\n",
    "con.commit()\n",
    "\n",
    "#　接続を終了\n",
    "con.close()"
   ]
  },
  {
   "cell_type": "code",
   "execution_count": 16,
   "metadata": {
    "tags": []
   },
   "outputs": [
    {
     "output_type": "stream",
     "name": "stdout",
     "text": "[('Suzuki', 'suzuki@abcxyz.co.jp', 'Development', 'staff'), ('Yamada', 'yamada@abcxyz.co.jp', 'Sales', 'staff'), ('Suzuki', 'suzuki@abcxyz.co.jp', 'Development', 'staff')]\n[('Suzuki', 'suzuki@abcxyz.co.jp', 'Development', 'staff'), ('Suzuki', 'suzuki@abcxyz.co.jp', 'Development', 'staff')]\n[('Suzuki', 'suzuki@abcxyz.co.jp', 'Development', 'staff'), ('Suzuki', 'suzuki@abcxyz.co.jp', 'Development', 'staff')]\n"
    }
   ],
   "source": [
    "import sqlite3\n",
    "\n",
    "# sample.db　という名前のデータベースファイル\n",
    "db = 'sample.db'\n",
    "\n",
    "#　データベースに接続\n",
    "con = sqlite3.connect(db)\n",
    "\n",
    "#　カーソルオブジェクトを作成\n",
    "csr = con.cursor()\n",
    "\n",
    "# テーブルにデータを格納\n",
    "sql = \"insert into Employee(name, email, department, position) \\\n",
    "values('Yamada', 'yamada@abcxyz.co.jp','Sales','staff');\"\n",
    "csr.execute(sql)\n",
    "sql = \"insert into Employee(name, email, department, position) \\\n",
    "values('Suzuki', 'suzuki@abcxyz.co.jp','Development','staff');\"\n",
    "csr.execute(sql)\n",
    "\n",
    "# この時点の内容を確認\n",
    "sql = \"select * from Employee;\"\n",
    "csr.execute(sql)\n",
    "print(csr.fetchall())\n",
    "\n",
    "# テーブルからデータを削除\n",
    "sql = \"delete from Employee where name = 'Yamada';\"\n",
    "csr.execute(sql)\n",
    "\n",
    "# この時点の内容を確認\n",
    "sql = \"select * from Employee;\"\n",
    "csr.execute(sql)\n",
    "print(csr.fetchall())\n",
    "\n",
    "# テーブル中のデータを更新\n",
    "sql = \"update Employee set position = 'Manager' where name = 'suzuki';\"\n",
    "csr.execute(sql) \n",
    "\n",
    "# 保存\n",
    "con.commit()\n",
    "\n",
    "#　内容を読み取って表示\n",
    "sql = \"select * from Employee;\"\n",
    "csr.execute(sql)\n",
    "print(csr.fetchall())\n",
    "\n",
    "#　接続を終了\n",
    "con.close()"
   ]
  },
  {
   "cell_type": "code",
   "execution_count": 17,
   "metadata": {},
   "outputs": [
    {
     "output_type": "error",
     "ename": "ProgrammingError",
     "evalue": "Cannot operate on a closed database.",
     "traceback": [
      "\u001b[1;31m---------------------------------------------------------------------------\u001b[0m",
      "\u001b[1;31mProgrammingError\u001b[0m                          Traceback (most recent call last)",
      "\u001b[1;32m<ipython-input-17-28c38117db1b>\u001b[0m in \u001b[0;36m<module>\u001b[1;34m\u001b[0m\n\u001b[1;32m----> 1\u001b[1;33m \u001b[0mcsr\u001b[0m\u001b[1;33m.\u001b[0m\u001b[0mexecute\u001b[0m\u001b[1;33m(\u001b[0m\u001b[1;34m'drop table data_set'\u001b[0m\u001b[1;33m)\u001b[0m\u001b[1;33m\u001b[0m\u001b[1;33m\u001b[0m\u001b[0m\n\u001b[0m\u001b[0;32m      2\u001b[0m \u001b[0mcon\u001b[0m\u001b[1;33m.\u001b[0m\u001b[0mcommit\u001b[0m\u001b[1;33m(\u001b[0m\u001b[1;33m)\u001b[0m\u001b[1;33m\u001b[0m\u001b[1;33m\u001b[0m\u001b[0m\n",
      "\u001b[1;31mProgrammingError\u001b[0m: Cannot operate on a closed database."
     ]
    }
   ],
   "source": [
    "csr.execute('drop table data_set')\n",
    "con.commit()"
   ]
  },
  {
   "cell_type": "code",
   "execution_count": 21,
   "metadata": {
    "tags": []
   },
   "outputs": [
    {
     "output_type": "stream",
     "name": "stdout",
     "text": "[('Ichiro', 'Lazer'), ('Jiro', None), ('Saburo', None)]\n"
    }
   ],
   "source": [
    "import sqlite3\n",
    "\n",
    "db = 'test.db'\n",
    "con = sqlite3.connect(db)\n",
    "csr = con.cursor()\n",
    "\n",
    "csr.execute('create table human1(name, nickname);')\n",
    "\n",
    "csr.execute(\"insert into human1(name) values('Ichiro');\")\n",
    "csr.execute(\"insert into human1(name) values('Jiro');\")\n",
    "csr.execute(\"insert into human1(name) values('Saburo');\")\n",
    "\n",
    "csr.execute(\"update human1 set nickname = 'Lazer' where name = 'Ichiro';\")\n",
    "\n",
    "csr.execute(\"select * from human1;\")\n",
    "print(csr.fetchall())\n",
    "\n",
    "con.commit()\n",
    "con.close()"
   ]
  },
  {
   "cell_type": "code",
   "execution_count": 20,
   "metadata": {
    "tags": []
   },
   "outputs": [
    {
     "output_type": "stream",
     "name": "stdout",
     "text": "[('Saburo', None)]\n"
    }
   ],
   "source": [
    "import sqlite3\n",
    "\n",
    "db = 'test.db'\n",
    "con = sqlite3.connect(db)\n",
    "csr = con.cursor()\n",
    "\n",
    "csr.execute(\"update human set nickname = 'Lazer' where name = 'Jiro';\")\n",
    "\n",
    "csr.execute(\"delete from human where nickname = 'Lazer';\")\n",
    "\n",
    "csr.execute(\"select * from human;\")\n",
    "print(csr.fetchall())\n",
    "\n",
    "con.commit()\n",
    "con.close()"
   ]
  }
 ]
}